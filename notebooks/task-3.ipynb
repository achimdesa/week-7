{
 "cells": [
  {
   "cell_type": "code",
   "execution_count": null,
   "metadata": {},
   "outputs": [],
   "source": [
    "# Task 3: Object Detection Using YOLO\n",
    "\n",
    "# Import necessary libraries\n",
    "import torch\n",
    "import os\n",
    "import cv2\n",
    "import pandas as pd\n",
    "\n",
    "# Load the pre-trained YOLOv5 model\n",
    "model = torch.hub.load('ultralytics/yolov5', 'yolov5s')  # You can switch to 'yolov5m', 'yolov5l', etc.\n",
    "\n",
    "# Define the path to the folder containing images (scraped images from Telegram channels)\n",
    "image_folder = '../data/photos'  # Path to folder containing images\n",
    "\n",
    "# Create an output directory for storing detection results\n",
    "output_dir = '../detection_results/'\n",
    "os.makedirs(output_dir, exist_ok=True)\n",
    "\n",
    "# Loop through the images in the folder and perform object detection\n",
    "for img_name in os.listdir(image_folder):\n",
    "    img_path = os.path.join(image_folder, img_name)\n",
    "    \n",
    "    # Process only image files (JPEG, PNG)\n",
    "    if img_name.endswith(('.jpg', '.jpeg', '.png')):\n",
    "        print(f\"Processing {img_name}...\")\n",
    "\n",
    "        # Read the image using OpenCV\n",
    "        img = cv2.imread(img_path)\n",
    "\n",
    "        # Run object detection\n",
    "        results = model(img)\n",
    "\n",
    "        # Display detection results (optional, opens image with detections)\n",
    "        results.show()\n",
    "\n",
    "        # Save the image with bounding boxes and labels to the output directory\n",
    "        results.save(save_dir=output_dir)\n",
    "\n",
    "        # Extract detection data (bounding box, class labels, confidence scores)\n",
    "        detections = results.pandas().xyxy[0]  # YOLOv5 returns Pandas DataFrame\n",
    "\n",
    "        # Display detection results for debugging (optional)\n",
    "        print(f\"Detections for {img_name}:\")\n",
    "        print(detections[['name', 'confidence', 'xmin', 'ymin', 'xmax', 'ymax']])\n",
    "\n",
    "        # Save the detection results to a CSV file for future analysis\n",
    "        output_csv_path = os.path.join(output_dir, f'{img_name}_detections.csv')\n",
    "        detections[['name', 'confidence', 'xmin', 'ymin', 'xmax', 'ymax']].to_csv(output_csv_path, index=False)\n",
    "        print(f\"Detection results saved to {output_csv_path}\")\n"
   ]
  }
 ],
 "metadata": {
  "kernelspec": {
   "display_name": "venv",
   "language": "python",
   "name": "python3"
  },
  "language_info": {
   "codemirror_mode": {
    "name": "ipython",
    "version": 3
   },
   "file_extension": ".py",
   "mimetype": "text/x-python",
   "name": "python",
   "nbconvert_exporter": "python",
   "pygments_lexer": "ipython3",
   "version": "3.12.7"
  }
 },
 "nbformat": 4,
 "nbformat_minor": 2
}
