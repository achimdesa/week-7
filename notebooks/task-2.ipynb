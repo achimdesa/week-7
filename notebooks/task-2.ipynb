{
 "cells": [
  {
   "cell_type": "code",
   "execution_count": null,
   "metadata": {},
   "outputs": [],
   "source": [
    "# Task 2: Data Cleaning and Transformation\n",
    "\n",
    "# Import necessary libraries\n",
    "import pandas as pd\n",
    "import numpy as np\n",
    "from sqlalchemy import create_engine\n",
    "import re\n",
    "\n",
    "# Load the cleaned data from Task 1 (scrapped data format)\n",
    "file_path = '../data/telegram_scrapped_data_cleaned.csv'\n",
    "df = pd.read_csv(file_path)\n",
    "\n",
    "# Display the first few rows to ensure it's loaded correctly\n",
    "print(\"First 5 rows of the dataset:\")\n",
    "df.head()\n",
    "\n",
    "# 1. Removing duplicates\n",
    "initial_shape = df.shape\n",
    "df.drop_duplicates(inplace=True)\n",
    "print(f\"Removed {initial_shape[0] - df.shape[0]} duplicate rows.\")\n",
    "\n",
    "# 2. Handling missing values\n",
    "# Fill missing values for essential columns\n",
    "df['Message'].fillna('No message', inplace=True)\n",
    "df['Date'].fillna(pd.Timestamp('1970-01-01'), inplace=True)  # Placeholder date\n",
    "df['Channel Title'].fillna('Unknown Channel', inplace=True)\n",
    "\n"
   ]
  }
 ],
 "metadata": {
  "kernelspec": {
   "display_name": "venv",
   "language": "python",
   "name": "python3"
  },
  "language_info": {
   "codemirror_mode": {
    "name": "ipython",
    "version": 3
   },
   "file_extension": ".py",
   "mimetype": "text/x-python",
   "name": "python",
   "nbconvert_exporter": "python",
   "pygments_lexer": "ipython3",
   "version": "3.12.7"
  }
 },
 "nbformat": 4,
 "nbformat_minor": 2
}
